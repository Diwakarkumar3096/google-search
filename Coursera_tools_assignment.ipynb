{
  "nbformat": 4,
  "nbformat_minor": 0,
  "metadata": {
    "colab": {
      "name": "Coursera  tools assignment",
      "provenance": [],
      "collapsed_sections": []
    },
    "kernelspec": {
      "name": "python3",
      "display_name": "Python 3"
    }
  },
  "cells": [
    {
      "cell_type": "markdown",
      "metadata": {
        "id": "GVSA9COo_1Ly",
        "colab_type": "text"
      },
      "source": [
        "#My Jupyter Notebook on IBM Watson Studio\n",
        "**Diwakar kumar**\\\n",
        "Student\n",
        "\n",
        "*I am interested in data science because \\\n",
        "I like all the machine learning data visualization\\\n",
        "and i like to play with data*\n",
        "\n",
        "###Addition of two digit"
      ]
    },
    {
      "cell_type": "code",
      "metadata": {
        "id": "oHhqrgXRUiq9",
        "colab_type": "code",
        "colab": {
          "base_uri": "https://localhost:8080/",
          "height": 67
        },
        "outputId": "41494900-0bc2-4aee-895b-1c5fa95ced4f"
      },
      "source": [
        "num1=int(input())\n",
        "num2=int(input())\n",
        "num1+num2"
      ],
      "execution_count": 1,
      "outputs": [
        {
          "output_type": "stream",
          "text": [
            "5\n",
            "6\n"
          ],
          "name": "stdout"
        },
        {
          "output_type": "execute_result",
          "data": {
            "text/plain": [
              "11"
            ]
          },
          "metadata": {
            "tags": []
          },
          "execution_count": 1
        }
      ]
    },
    {
      "cell_type": "markdown",
      "metadata": {
        "id": "GBX9cYENCBf6",
        "colab_type": "text"
      },
      "source": [
        "\n",
        "\n",
        "1.   List 1\n",
        "2.   List 2\n",
        "1.   List 3\n",
        "2.   List 4\n",
        "\n",
        "\n",
        "\n",
        "*   List \n",
        "*   List \n",
        "\n",
        "---\n",
        "\n",
        "\n",
        "\n",
        "---\n",
        "\n",
        "\n",
        "\n"
      ]
    },
    {
      "cell_type": "code",
      "metadata": {
        "id": "tXAP5tB9Umk7",
        "colab_type": "code",
        "colab": {}
      },
      "source": [
        ""
      ],
      "execution_count": null,
      "outputs": []
    },
    {
      "cell_type": "code",
      "metadata": {
        "id": "9HaraRquU2w7",
        "colab_type": "code",
        "colab": {}
      },
      "source": [
        ""
      ],
      "execution_count": null,
      "outputs": []
    },
    {
      "cell_type": "markdown",
      "metadata": {
        "id": "SDEZWlTDWJDM",
        "colab_type": "text"
      },
      "source": [
        "\n",
        "\n",
        "```\n",
        "\n",
        "\n",
        "```\n",
        "```\n",
        "\n",
        "\n",
        "```\n",
        "\n"
      ]
    },
    {
      "cell_type": "code",
      "metadata": {
        "id": "XCwrVHA-jfbj",
        "colab_type": "code",
        "colab": {
          "base_uri": "https://localhost:8080/",
          "height": 34
        },
        "outputId": "62237abc-149e-45ac-95f6-46a7335ed91d"
      },
      "source": [
        "25+25"
      ],
      "execution_count": null,
      "outputs": [
        {
          "output_type": "execute_result",
          "data": {
            "text/plain": [
              "50"
            ]
          },
          "metadata": {
            "tags": []
          },
          "execution_count": 1
        }
      ]
    },
    {
      "cell_type": "markdown",
      "metadata": {
        "id": "eVhUr1PdkK4K",
        "colab_type": "text"
      },
      "source": [
        "#Markdown\n",
        "##Order list\n",
        "1.   List item\n",
        "2.   List item\n",
        "\n",
        "##Unorder list\n",
        "\n",
        "\n",
        "*   List item\n",
        "*   List item\n",
        "##Horizontal rule\n",
        "\n",
        "\n",
        "--- -----------\n",
        "\n",
        "\n",
        "\n",
        "\n",
        "\n"
      ]
    },
    {
      "cell_type": "code",
      "metadata": {
        "id": "m_SAcuAajdgY",
        "colab_type": "code",
        "colab": {}
      },
      "source": [
        ""
      ],
      "execution_count": null,
      "outputs": []
    }
  ]
}