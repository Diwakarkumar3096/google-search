{
  "nbformat": 4,
  "nbformat_minor": 0,
  "metadata": {
    "colab": {
      "name": "Untitled96.ipynb",
      "provenance": [],
      "collapsed_sections": []
    },
    "kernelspec": {
      "name": "python3",
      "display_name": "Python 3"
    }
  },
  "cells": [
    {
      "cell_type": "code",
      "metadata": {
        "id": "oHhqrgXRUiq9",
        "colab_type": "code",
        "colab": {}
      },
      "source": [
        ""
      ],
      "execution_count": null,
      "outputs": []
    },
    {
      "cell_type": "markdown",
      "metadata": {
        "id": "6eabOJdJUknQ",
        "colab_type": "text"
      },
      "source": [
        "My Jupyter Notebook on IBM Watson Studio"
      ]
    },
    {
      "cell_type": "code",
      "metadata": {
        "id": "tXAP5tB9Umk7",
        "colab_type": "code",
        "colab": {}
      },
      "source": [
        ""
      ],
      "execution_count": null,
      "outputs": []
    },
    {
      "cell_type": "markdown",
      "metadata": {
        "id": "nOdrsSXYUo4g",
        "colab_type": "text"
      },
      "source": [
        "**Diwakar kumar**\\\n",
        "Student"
      ]
    },
    {
      "cell_type": "code",
      "metadata": {
        "id": "9HaraRquU2w7",
        "colab_type": "code",
        "colab": {}
      },
      "source": [
        ""
      ],
      "execution_count": null,
      "outputs": []
    },
    {
      "cell_type": "markdown",
      "metadata": {
        "id": "smUdlsYOVKnt",
        "colab_type": "text"
      },
      "source": [
        "*I am interested in data science because \\\n",
        "I like all the machine learning data visualization\\\n",
        "and i like to play with data*"
      ]
    },
    {
      "cell_type": "code",
      "metadata": {
        "id": "qgnIl_JbV3de",
        "colab_type": "code",
        "colab": {}
      },
      "source": [
        ""
      ],
      "execution_count": null,
      "outputs": []
    },
    {
      "cell_type": "markdown",
      "metadata": {
        "id": "SDEZWlTDWJDM",
        "colab_type": "text"
      },
      "source": [
        "\n",
        "\n",
        "```\n",
        "\n",
        "\n",
        "```\n",
        "###This is addition\n",
        "```\n",
        "\n",
        "\n",
        "```\n",
        "\n"
      ]
    },
    {
      "cell_type": "code",
      "metadata": {
        "id": "XCwrVHA-jfbj",
        "colab_type": "code",
        "colab": {
          "base_uri": "https://localhost:8080/",
          "height": 34
        },
        "outputId": "62237abc-149e-45ac-95f6-46a7335ed91d"
      },
      "source": [
        "25+25"
      ],
      "execution_count": 1,
      "outputs": [
        {
          "output_type": "execute_result",
          "data": {
            "text/plain": [
              "50"
            ]
          },
          "metadata": {
            "tags": []
          },
          "execution_count": 1
        }
      ]
    },
    {
      "cell_type": "markdown",
      "metadata": {
        "id": "eVhUr1PdkK4K",
        "colab_type": "text"
      },
      "source": [
        "#Markdown\n",
        "##Order list\n",
        "1.   List item\n",
        "2.   List item\n",
        "\n",
        "##Unorder list\n",
        "\n",
        "\n",
        "*   List item\n",
        "*   List item\n",
        "##Horizontal rule\n",
        "\n",
        "\n",
        "--- -----------\n",
        "\n",
        "\n",
        "\n",
        "\n",
        "\n"
      ]
    },
    {
      "cell_type": "code",
      "metadata": {
        "id": "m_SAcuAajdgY",
        "colab_type": "code",
        "colab": {}
      },
      "source": [
        ""
      ],
      "execution_count": null,
      "outputs": []
    }
  ]
}