{
  "nbformat": 4,
  "nbformat_minor": 0,
  "metadata": {
    "colab": {
      "name": "Untitled21.ipynb",
      "version": "0.3.2",
      "provenance": []
    },
    "kernelspec": {
      "name": "python3",
      "display_name": "Python 3"
    }
  },
  "cells": [
    {
      "cell_type": "markdown",
      "metadata": {
        "id": "YTut6BvJ-qjU",
        "colab_type": "text"
      },
      "source": [
        "#Random"
      ]
    },
    {
      "cell_type": "code",
      "metadata": {
        "id": "dDWWHfnC-v2d",
        "colab_type": "code",
        "colab": {}
      },
      "source": [
        "import numpy as np\n",
        "import matplotlib.pyplot as plt\n",
        "import random"
      ],
      "execution_count": 0,
      "outputs": []
    },
    {
      "cell_type": "code",
      "metadata": {
        "id": "tE-uQKBO-lF4",
        "colab_type": "code",
        "colab": {
          "base_uri": "https://localhost:8080/",
          "height": 118
        },
        "outputId": "4eadb244-91f0-4aaa-a38f-1c7341913e29"
      },
      "source": [
        "row=int(input(\"enter the number of row:\"))#row input\n",
        "col=int(input(\"enter the number of column:\"))#column input\n",
        "\n",
        "random=np.random.randint(100,200,size=(row,col)) #generating random number in range of 100 to 200\n",
        "random"
      ],
      "execution_count": 42,
      "outputs": [
        {
          "output_type": "stream",
          "text": [
            "enter the number of row:4\n",
            "enter the number of column:5\n"
          ],
          "name": "stdout"
        },
        {
          "output_type": "execute_result",
          "data": {
            "text/plain": [
              "array([[121, 134, 117, 117, 181],\n",
              "       [159, 147, 166, 143, 105],\n",
              "       [117, 193, 137, 189, 177],\n",
              "       [138, 196, 125, 173, 106]])"
            ]
          },
          "metadata": {
            "tags": []
          },
          "execution_count": 42
        }
      ]
    },
    {
      "cell_type": "code",
      "metadata": {
        "id": "BaR3sk2g_WM5",
        "colab_type": "code",
        "colab": {}
      },
      "source": [
        "file = open('random.txt',\"w\")\n",
        "file.write(\"ARRAY\\n\")\n",
        "np.savetxt('file',random)"
      ],
      "execution_count": 0,
      "outputs": []
    },
    {
      "cell_type": "code",
      "metadata": {
        "id": "iN6iwCxeCLNh",
        "colab_type": "code",
        "colab": {
          "base_uri": "https://localhost:8080/",
          "height": 67
        },
        "outputId": "04a8fcb2-e906-460c-bc30-24a2795e81e6"
      },
      "source": [
        "y=np.loadtxt('file')\n",
        "y"
      ],
      "execution_count": 41,
      "outputs": [
        {
          "output_type": "execute_result",
          "data": {
            "text/plain": [
              "array([[161., 189., 178., 129.],\n",
              "       [132., 120., 144., 100.],\n",
              "       [103., 106., 189., 103.]])"
            ]
          },
          "metadata": {
            "tags": []
          },
          "execution_count": 41
        }
      ]
    },
    {
      "cell_type": "code",
      "metadata": {
        "id": "2t3hMis3DnjB",
        "colab_type": "code",
        "colab": {}
      },
      "source": [
        ""
      ],
      "execution_count": 0,
      "outputs": []
    },
    {
      "cell_type": "code",
      "metadata": {
        "id": "OlfqhB4RG7Kv",
        "colab_type": "code",
        "colab": {}
      },
      "source": [
        ""
      ],
      "execution_count": 0,
      "outputs": []
    }
  ]
}